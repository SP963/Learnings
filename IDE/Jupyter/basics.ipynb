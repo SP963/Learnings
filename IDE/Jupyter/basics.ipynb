{
 "cells": [
  {
   "cell_type": "markdown",
   "id": "0158d688",
   "metadata": {},
   "source": [
    "Jupyter Notebook"
   ]
  }
 ],
 "metadata": {
  "language_info": {
   "name": "python"
  }
 },
 "nbformat": 4,
 "nbformat_minor": 5
}

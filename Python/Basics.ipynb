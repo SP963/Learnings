{
 "cells": [
  {
   "cell_type": "code",
   "execution_count": 2,
   "id": "d07aae25",
   "metadata": {},
   "outputs": [
    {
     "name": "stdout",
     "output_type": "stream",
     "text": [
      "char = apple,ball\n",
      "numeric = 24\n",
      "float = 2.76\n",
      "imaginary = (2+3j)\n",
      "integer = -1\n"
     ]
    }
   ],
   "source": [
    "a = \"apple\"\n",
    "b = 'ball'\n",
    "c = 24\n",
    "d = 2.76\n",
    "e = 2+3j\n",
    "f = -1\n",
    "print(f\"char = {a},{b}\")\n",
    "print(f\"numeric = {c}\")\n",
    "print(f\"float = {d}\")\n",
    "print(f\"imaginary = {e}\")\n",
    "print(f\"integer = {f}\")"
   ]
  },
  {
   "cell_type": "code",
   "execution_count": null,
   "id": "bc6557f7",
   "metadata": {},
   "outputs": [
    {
     "name": "stdout",
     "output_type": "stream",
     "text": [
      "9 is Lessthan 20\n"
     ]
    }
   ],
   "source": [
    "a=int(input(\"Enter a Number:\"))\n",
    "b=int(input(\"Enter a Number:\"))\n",
    "if a>b:\n",
    "    print(f\"{a} is grater than {b}\")\n",
    "elif(a==b):\n",
    "    print(f\"{a} equals to {b}\")\n",
    "else:\n",
    "    print(f\"{a} is Lessthan {b}\")"
   ]
  },
  {
   "cell_type": "code",
   "execution_count": 27,
   "id": "f4336f32",
   "metadata": {},
   "outputs": [
    {
     "name": "stdout",
     "output_type": "stream",
     "text": [
      "300,23,2\n"
     ]
    }
   ],
   "source": [
    "a = int(input())\n",
    "b = int(input())\n",
    "c = int(input())\n",
    "#b,c,a\n",
    "if a<b:\n",
    "    a,b=b,a\n",
    "if a<c:\n",
    "    a,c=c,a\n",
    "if b<c:\n",
    "    b,c=c,b\n",
    "print(f\"{a},{b},{c}\")"
   ]
  },
  {
   "cell_type": "code",
   "execution_count": null,
   "id": "7337d5ae",
   "metadata": {},
   "outputs": [
    {
     "name": "stdout",
     "output_type": "stream",
     "text": [
      "12,18,20\n"
     ]
    }
   ],
   "source": [
    "a = 20\n",
    "b = 12\n",
    "c = 18\n",
    "if a<=b and a<=c:\n",
    "    if b<=c:\n",
    "        print(f\"{a},{b},{c}\")\n",
    "    else:\n",
    "        print(f\"{a},{c},{b}\") #b,c=c,b\n",
    "elif b<=a and b<=c:\n",
    "    if a<=c:\n",
    "        print(f\"{b},{a},{c}\")\n",
    "    else:\n",
    "        print(f\"{b},{c},{a}\") #a,c=c,a\n",
    "else:\n",
    "    if a<=b:\n",
    "        print(f\"{c},{a},{b}\")\n",
    "    else:\n",
    "        print(f\"{c},{b},{a}\") #a,b=b,a\n"
   ]
  }
 ],
 "metadata": {
  "kernelspec": {
   "display_name": ".venv",
   "language": "python",
   "name": "python3"
  },
  "language_info": {
   "codemirror_mode": {
    "name": "ipython",
    "version": 3
   },
   "file_extension": ".py",
   "mimetype": "text/x-python",
   "name": "python",
   "nbconvert_exporter": "python",
   "pygments_lexer": "ipython3",
   "version": "3.13.1"
  }
 },
 "nbformat": 4,
 "nbformat_minor": 5
}

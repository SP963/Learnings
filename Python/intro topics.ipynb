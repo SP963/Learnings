{
 "cells": [
  {
   "cell_type": "markdown",
   "id": "d1c9d4c4",
   "metadata": {},
   "source": [
    "Python Keywords\n",
    "\n",
    "['False', 'None', 'True', 'and', 'as', 'assert', 'async', 'await', 'break', 'class', 'continue', 'def', 'del', 'elif', 'else', 'except', 'finally', 'for', 'from', 'global', 'if', 'import', 'in', 'is', 'lambda', 'nonlocal', 'not', 'or', 'pass', 'raise', 'return', 'try', 'while', 'with', 'yield']"
   ]
  },
  {
   "cell_type": "code",
   "execution_count": 1,
   "id": "9a421f4e",
   "metadata": {},
   "outputs": [
    {
     "name": "stdout",
     "output_type": "stream",
     "text": [
      "['False', 'None', 'True', 'and', 'as', 'assert', 'async', 'await', 'break', 'class', 'continue', 'def', 'del', 'elif', 'else', 'except', 'finally', 'for', 'from', 'global', 'if', 'import', 'in', 'is', 'lambda', 'nonlocal', 'not', 'or', 'pass', 'raise', 'return', 'try', 'while', 'with', 'yield']\n"
     ]
    }
   ],
   "source": [
    "import keyword\n",
    "print(keyword.kwlist)"
   ]
  },
  {
   "cell_type": "markdown",
   "id": "a3483b88",
   "metadata": {},
   "source": [
    "Python Operators\n",
    "\n",
    "In Python, Operators are the symbols used to perform a specific operation on different values and variables. These values and variables are considered as the Operands, on which the operator is applied.\n",
    "\n",
    "Arithmetic Operators -> +(Addition),-(Subtraction),/(divide),*(Multiplication),%(reminder),**(Exponent),//(Floor division).\n",
    "\n",
    "Comparison Operators -> ==(Equal to), !=(Not Equal to), <=(Less than or Equal to), >= (Greater than or Equal to), >(Greater than), <(Less than)\n",
    "\n",
    "Assignment Operators -> =(Assign[a=b+c]), +=(Add AND[a+=b => a=a+b]), -=(Subtract AND[a-=b => a=a-b]), *=(Multiply AND[a*=b => a=a*b]), /=(Divide AND[a/=b => a=a/b]), %=(Modulus AND[a%=b => a=a%b]), **=(Exponent AND[a **= b => a=a ** b]), //=(Divide (floor) AND[a //= b => a = a // b])\n",
    "\n",
    "Logical Operators -> and(Logical AND[a and b]), or(Logical OR[a or b]), not(Logical not[not a])\n",
    "\n",
    "Bitwise Operators -> &(Bitwise AND[a&b]), |(Bitwise OR[a|b]), ^(Bitwise XOR[a^b]), ~(Bitwise NOT[~a]), <<(Bitwise Left Shift[a<<]), >>(Bitwise right Shift[a>>])\n",
    "\n",
    "Membership Operators -> in, not in\n",
    "\n",
    "Identity Operators -> is, is not"
   ]
  },
  {
   "cell_type": "code",
   "execution_count": 24,
   "id": "af0c67af",
   "metadata": {},
   "outputs": [],
   "source": [
    "a=10\n",
    "b=20\n",
    "c=30\n",
    "d=\"Satya\"\n",
    "e=\"Python\"\n",
    "f=\"Satya is learning Python\"\n",
    "n=2.4"
   ]
  },
  {
   "cell_type": "code",
   "execution_count": 25,
   "id": "4695cd50",
   "metadata": {},
   "outputs": [
    {
     "name": "stdout",
     "output_type": "stream",
     "text": [
      "addition of 10 and 20 is 30\n",
      "subtraction of 20 and 10 is 10\n",
      "division of 20 and 10 is 2.0\n",
      "Multiplication of 10 and 20 is 200\n",
      "reminder of 10 and 20 is 10\n",
      "exponent of 10 and 20 is 100000000000000000000\n",
      "floor division of 20 and 2.4 is 8.0\n",
      "1. Two numbers are equal or not: False\n",
      "2. Two numbers are not equal or not: True\n",
      "3. a is less than or equal to b: True\n",
      "4. a is greater than or equal to b: False\n",
      "5. a is greater than b: False\n",
      "6. a is less than b: True\n",
      "a += b: 30\n",
      "a -= b: -10\n",
      "a *= b: 200\n",
      "a /= b: 0.5\n",
      "a %= b: 10\n",
      "a **= b: 100000000000000000000\n",
      "a //= b: 0\n",
      "20\n",
      "a & b : 0\n",
      "a | b : 30\n",
      "a ^ b : 30\n",
      "~a : -11\n",
      "a << b : 10485760\n",
      "a >> b : 0\n",
      "For a = 10, checking whether the following conditions are True or False:\n",
      "\"a > 5 and a < 10\" => False\n",
      "\"a > 5 or a < 10\" => True\n",
      "\"not (a > 5 and a < 10)\" => True\n"
     ]
    }
   ],
   "source": [
    "g = a+b\n",
    "print(f\"addition of {a} and {b} is {g}\")\n",
    "h = b-a\n",
    "print(f\"subtraction of {b} and {a} is {h}\")\n",
    "i = b/a\n",
    "print(f\"division of {b} and {a} is {i}\")\n",
    "j= a*b\n",
    "print(f\"Multiplication of {a} and {b} is {j}\")\n",
    "k = a%b\n",
    "print(f\"reminder of {a} and {b} is {k}\")\n",
    "l = a**b\n",
    "print(f\"exponent of {a} and {b} is {l}\")\n",
    "m = b//n\n",
    "print(f\"floor division of {b} and {n} is {m}\")\n",
    "c==g\n",
    "c!=b\n",
    "c<=b\n",
    "c>=b\n",
    "print(f'1. Two numbers are equal or not:', a == b)    \n",
    "print(f'2. Two numbers are not equal or not:', a != b)    \n",
    "print(f'3. a is less than or equal to b:', a <= b)    \n",
    "print(f'4. a is greater than or equal to b:', a >= b)    \n",
    "print(f'5. a is greater than b:', a > b)    \n",
    "print(f'6. a is less than b:', a < b)  \n",
    "print(f'a += b:', a + b)    \n",
    "print(f'a -= b:', a - b)    \n",
    "print(f'a *= b:', a * b)    \n",
    "print(f'a /= b:', a / b)    \n",
    "print(f'a %= b:', a % b)  \n",
    "print(f'a **= b:', a ** b)    \n",
    "print(f'a //= b:', a // b)    \n",
    "print(b)\n",
    "print(f'a & b :', a & b)    \n",
    "print(f'a | b :', a | b)    \n",
    "print(f'a ^ b :', a ^ b)    \n",
    "print(f'~a :', ~a)  \n",
    "print(f'a << b :', a << b)    \n",
    "print(f'a >> b :', a >> b)  \n",
    "print(f\"For a = 10, checking whether the following conditions are True or False:\")  \n",
    "print(f'\\\"a > 5 and a < 10\\\" =>', a > 5 and a < 10)    \n",
    "print(f'\\\"a > 5 or a < 10\\\" =>', a > 5 or a < 10)  \n",
    "print(f'\\\"not (a > 5 and a < 10)\\\" =>', not(a > 5 and a < 10)) "
   ]
  },
  {
   "cell_type": "markdown",
   "id": "57d09efb",
   "metadata": {},
   "source": [
    "#Comments#\n",
    "\n",
    "Single-line Comments -> #\n",
    "\n",
    "Multi-line Comments -> \"\"\"   \"\"\"\n",
    "\n",
    "Docstrings -> "
   ]
  },
  {
   "cell_type": "markdown",
   "id": "524dad86",
   "metadata": {},
   "source": [
    "Variables\n",
    "\n",
    "A variable in Python is essentially a symbolic name assigned to a memory location where data is stored.\n",
    "\n",
    "a = 10 -> a = Variable name , = = assignment operator, 10m = value"
   ]
  },
  {
   "cell_type": "code",
   "execution_count": null,
   "id": "08bdfeae",
   "metadata": {},
   "outputs": [],
   "source": [
    "name = \"Satya\"\n",
    "age = 25"
   ]
  },
  {
   "cell_type": "markdown",
   "id": "2c49442a",
   "metadata": {},
   "source": [
    "Data Types\n",
    "\n",
    "data types are used to define the kind of data a variable can store.\n",
    "\n",
    "Numeric Data Types -> integer(+,-), float(1.23), complex(2+3j)\n",
    "\n",
    "Sequence Data Types -> String(\"Satya\"), list([1,2,3,4,5]), tuple(1,2,3,4,5)\n",
    "\n",
    "Set Data Types -> set ({1,2,3,4,5}), frozenset()\n",
    "\n",
    "Mapping Data Type -> Dictionary({\"name\":\"Satya\",\"age\":\"25\",\"gender\":\"Male\"})\n",
    "\n",
    "Boolean Data Type -> True(1), False(0)\n",
    "\n",
    "Binary Data Types -> bytes, bytearray, memoryview\n",
    "\n",
    "None Data Type -> None  "
   ]
  },
  {
   "cell_type": "markdown",
   "id": "90f930b2",
   "metadata": {},
   "source": [
    "Type Casting in Python\n",
    "\n",
    "Implicit Type Casting (Automatic): Python converts smaller data types to larger ones automatically.\n",
    "\n",
    "Explicit Type Casting (Manual): Programmers use Python's built-in functions to convert one data type into another."
   ]
  },
  {
   "cell_type": "code",
   "execution_count": 30,
   "id": "6366fca7",
   "metadata": {},
   "outputs": [
    {
     "name": "stdout",
     "output_type": "stream",
     "text": [
      "0\n",
      "1\n",
      "4\n",
      "9\n",
      "16\n"
     ]
    }
   ],
   "source": [
    "n = 5\n",
    "i = 0\n",
    "for i in range(n):\n",
    "    print(i*i)"
   ]
  }
 ],
 "metadata": {
  "kernelspec": {
   "display_name": ".venv",
   "language": "python",
   "name": "python3"
  },
  "language_info": {
   "codemirror_mode": {
    "name": "ipython",
    "version": 3
   },
   "file_extension": ".py",
   "mimetype": "text/x-python",
   "name": "python",
   "nbconvert_exporter": "python",
   "pygments_lexer": "ipython3",
   "version": "3.13.1"
  }
 },
 "nbformat": 4,
 "nbformat_minor": 5
}

{
 "cells": [
  {
   "cell_type": "markdown",
   "id": "fdd9e074",
   "metadata": {},
   "source": [
    "🟢 Beginner Level (Understand Syntax & Flow)\n",
    "These help you get comfortable with syntax and basic conditions.\n",
    "\n",
    "1. Positive, Negative or Zero\n",
    "Write a program to input a number and print whether it is positive, negative, or zero.\n",
    "\n",
    "2. Even or Odd\n",
    "Check if a given number is even or odd.\n",
    "\n",
    "3. Voting Eligibility\n",
    "Input age and determine if the person is eligible to vote (age ≥ 18).\n",
    "\n",
    "4. Grade Evaluator\n",
    "Input a score (0–100) and print:\n",
    "\n",
    "    A (90–100)\n",
    "\n",
    "    B (80–89)\n",
    "\n",
    "    C (70–79)\n",
    "\n",
    "    D (60–69)\n",
    "\n",
    "    F (Below 60)\n",
    "\n",
    "5. Smallest of Three Numbers\n",
    "Take three integers and print the smallest using if-elif-else."
   ]
  },
  {
   "cell_type": "code",
   "execution_count": 3,
   "id": "a1672280",
   "metadata": {},
   "outputs": [
    {
     "name": "stdout",
     "output_type": "stream",
     "text": [
      "0 is Zero\n"
     ]
    }
   ],
   "source": [
    "#Positive, Negative or Zero\n",
    "Number = int(input(\"Enter a Number:\"))\n",
    "if Number>0:\n",
    "    print(f\"{Number} is Positive\")\n",
    "elif Number<0:\n",
    "    print(f\"{Number} is Negative\")\n",
    "else:\n",
    "    print(f\"{Number} is Zero\")"
   ]
  },
  {
   "cell_type": "code",
   "execution_count": 6,
   "id": "7b551bd0",
   "metadata": {},
   "outputs": [
    {
     "name": "stdout",
     "output_type": "stream",
     "text": [
      "0 is Even Number\n"
     ]
    }
   ],
   "source": [
    "#Even or Odd\n",
    "n = int(input(\"Enter a Number:\"))\n",
    "if n%2==0:\n",
    "    print(f\"{n} is Even Number\")\n",
    "else:\n",
    "    print(f\"{n} is Odd Number\")"
   ]
  },
  {
   "cell_type": "code",
   "execution_count": 45,
   "id": "0939cdd1",
   "metadata": {},
   "outputs": [
    {
     "name": "stdout",
     "output_type": "stream",
     "text": [
      "You are not eligible to vote because your age is 0\n"
     ]
    }
   ],
   "source": [
    "#Voting Eligibility\n",
    "Age = int(input(\"Enter your Age:\"))\n",
    "if Age<0:\n",
    "    print(f\"{Age} is Invalid\")\n",
    "elif 0<=Age<=18:\n",
    "    print(f\"You are not eligible to vote because your age is {Age}\")\n",
    "else:\n",
    "    print(f\"You are eligible to vote\")"
   ]
  },
  {
   "cell_type": "code",
   "execution_count": null,
   "id": "6463c620",
   "metadata": {},
   "outputs": [
    {
     "name": "stdout",
     "output_type": "stream",
     "text": [
      "-21 is invalid\n"
     ]
    }
   ],
   "source": [
    "#Grade Evaluator\n",
    "Marks = int(input(\"Enter your Total Marks:\"))\n",
    "if 90<=Marks<=100:\n",
    "    print(f\"You got A grade\")\n",
    "elif 80<=Marks<=89:\n",
    "    print(f\"You got B grade\")\n",
    "elif 70<=Marks<=79:\n",
    "    print(f\"You got C grade\")\n",
    "elif 60<=Marks<=69:\n",
    "    print(f\"You got D grade\")\n",
    "elif 50<=Marks<=59:\n",
    "    print(f\"You got E grade\")\n",
    "elif 0<=Marks<50:\n",
    "    print(f\"You got F grade\")\n",
    "else:\n",
    "    print(f\"{Marks} is invalid\")"
   ]
  },
  {
   "cell_type": "code",
   "execution_count": 41,
   "id": "1e20f355",
   "metadata": {},
   "outputs": [
    {
     "name": "stdout",
     "output_type": "stream",
     "text": [
      "2\n"
     ]
    }
   ],
   "source": [
    "#Smallest of Three Numbers\n",
    "a = 5\n",
    "b = 200\n",
    "c = 2\n",
    "if a<=b and a<=c:\n",
    "    print(a)\n",
    "elif b<=a and b<=c:\n",
    "    print(b)\n",
    "else:\n",
    "    print(c)"
   ]
  },
  {
   "cell_type": "markdown",
   "id": "9e9e40d6",
   "metadata": {},
   "source": [
    "🟡 Intermediate Level (Logic & Nesting)\n",
    "These questions help you practice multiple conditions and nested logic.\n",
    "\n",
    "6. Leap Year Checker\n",
    "    Input a year and determine if it’s a leap year (divisible by 4, but not 100 unless also 400).\n",
    "\n",
    "7. Character Classifier\n",
    "    Input a single character and classify it as:\n",
    "\n",
    "    Uppercase letter\n",
    "    Lowercase letter\n",
    "    Digit\n",
    "    Special character\n",
    "\n",
    "8. Triangle Type Checker\n",
    "    Input three sides and print whether the triangle is:\n",
    "\n",
    "    Equilateral (all equal)\n",
    "    Isosceles (any two equal)\n",
    "    Scalene (all different)\n",
    "\n",
    "9. Login System (Static)\n",
    "    Check if entered username and password match pre-defined credentials.\n",
    "    \n",
    "    If both correct → \"Login successful\"\n",
    "    If username correct but password wrong → \"Incorrect password\"\n",
    "    Else → \"User not found\"\n",
    "\n",
    "10. Electricity Bill Calculator\n",
    "    Take input of consumed units:\n",
    "\n",
    "    First 100 units: ₹1.5/unit\n",
    "    Next 100 (101–200): ₹2.5/unit\n",
    "    Beyond 200: ₹4/unit\n",
    "    Print the total bill."
   ]
  },
  {
   "cell_type": "markdown",
   "id": "308ac213",
   "metadata": {},
   "source": [
    "🔴 Advanced Level (Complex Conditions & Real Scenarios)\n",
    "11. ATM Cash Withdrawal Logic\n",
    "    Input: balance, withdrawal amount\n",
    "    Conditions:\n",
    "    Amount must be multiple of 100\n",
    "    Amount + ₹10 transaction fee ≤ balance\n",
    "    Print final balance or error messages accordingly.\n",
    "\n",
    "12. Nested Discount System\n",
    "    A store offers:\n",
    "\n",
    "    10% off for orders > ₹1000\n",
    "    Additional 5% off for members\n",
    "    Apply the logic and print final price.\n",
    "\n",
    "13. BMI Calculator & Classifier\n",
    "    Input: weight (kg), height (m)\n",
    "    Calculate BMI and classify:\n",
    "\n",
    "    < 18.5: Underweight\n",
    "    18.5–24.9: Normal\n",
    "    25–29.9: Overweight\n",
    "    ≥30: Obese\n",
    "\n",
    "14. Traffic Light Decision System\n",
    "    Input the traffic light color and pedestrian presence (True/False):\n",
    "\n",
    "    Red + pedestrian → Stop\n",
    "    Green + no pedestrian → Go\n",
    "    Yellow → Wait\n",
    "    Else → Follow manual signal\n",
    "\n",
    "15. Multiple Conditions with Time\n",
    "    Input current hour (0–23):\n",
    "\n",
    "    5–11 → \"Good Morning\"\n",
    "    12–17 → \"Good Afternoon\"\n",
    "    18–20 → \"Good Evening\"\n",
    "    21–4 → \"Good Night\""
   ]
  },
  {
   "cell_type": "markdown",
   "id": "6460438b",
   "metadata": {},
   "source": []
  }
 ],
 "metadata": {
  "kernelspec": {
   "display_name": ".venv",
   "language": "python",
   "name": "python3"
  },
  "language_info": {
   "codemirror_mode": {
    "name": "ipython",
    "version": 3
   },
   "file_extension": ".py",
   "mimetype": "text/x-python",
   "name": "python",
   "nbconvert_exporter": "python",
   "pygments_lexer": "ipython3",
   "version": "3.13.1"
  }
 },
 "nbformat": 4,
 "nbformat_minor": 5
}
